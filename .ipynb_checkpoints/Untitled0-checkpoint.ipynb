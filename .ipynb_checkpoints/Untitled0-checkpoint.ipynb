{
 "metadata": {
  "name": "",
  "signature": "sha256:c9edfa73ea32036fd0c620daa883391b3778199289c774f02388884e5da1fdff"
 },
 "nbformat": 3,
 "nbformat_minor": 0,
 "worksheets": []
}